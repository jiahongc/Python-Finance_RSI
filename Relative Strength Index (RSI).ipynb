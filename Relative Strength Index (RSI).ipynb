{
 "cells": [
  {
   "cell_type": "markdown",
   "metadata": {},
   "source": [
    "# Relative Strength Index"
   ]
  },
  {
   "cell_type": "markdown",
   "metadata": {},
   "source": [
    "The Relative Strength Index (RSI) is a momentum indicator that describes the current price relative to average high and low prices over a previous trading period. This indicator estimates overbought or oversold status and helps spot trend reversals, price pullbacks, and the emergence of bullish or bearish markets.\n",
    "\n",
    "<img src=\"rsi.jpeg\" width=300 height=300 />\n",
    "\n",
    "\n",
    "- https://www.alpharithms.com/relative-strength-index-rsi-in-python-470209/#:~:text=Use%20the%20RS%20value%20to,both%20the%20gains%20and%20losses\n",
    "- https://www.tradingview.com/support/solutions/43000502338-relative-strength-index-rsi/"
   ]
  },
  {
   "cell_type": "code",
   "execution_count": 1,
   "metadata": {},
   "outputs": [
    {
     "data": {
      "text/html": [
       "<style>.container { width:90% !important; }</style>"
      ],
      "text/plain": [
       "<IPython.core.display.HTML object>"
      ]
     },
     "metadata": {},
     "output_type": "display_data"
    }
   ],
   "source": [
    "# import basiclibraries\n",
    "import pandas as pd\n",
    "import pandas_ta as ta\n",
    "import numpy as np\n",
    "import altair as alt\n",
    "\n",
    "from IPython.core.display import display, HTML\n",
    "display(HTML(\"<style>.container { width:90% !important; }</style>\"))"
   ]
  },
  {
   "cell_type": "code",
   "execution_count": 2,
   "metadata": {},
   "outputs": [],
   "source": [
    "## Function to show dataframes side by side\n",
    "## https://stackoverflow.com/questions/38783027/jupyter-notebook-display-two-pandas-tables-side-by-side\n",
    "\n",
    "from IPython.display import display_html\n",
    "from itertools import chain,cycle\n",
    "def display(*args,titles=cycle([''])):\n",
    "    html_str=''\n",
    "    for df,title in zip(args, chain(titles,cycle(['</br>'])) ):\n",
    "        html_str+='<th style=\"text-align:center\"><td style=\"vertical-align:top\">'\n",
    "        html_str+=f'<h2>{title}</h2>'\n",
    "        html_str+=df.to_html().replace('table','table style=\"display:inline\"')\n",
    "        html_str+='</td></th>'\n",
    "    display_html(html_str,raw=True)"
   ]
  },
  {
   "cell_type": "code",
   "execution_count": 3,
   "metadata": {
    "scrolled": true
   },
   "outputs": [],
   "source": [
    "#three ways to import finance data, \n",
    "#https://pypi.org/project/yfinance/\n",
    "#https://www.alpharithms.com/python-financial-data-491110/\n",
    "import yfinance as yf\n",
    "\n",
    "Ticker=\"AVAX-USD\"\n",
    "df = yf.Ticker(Ticker).history(period='6mo')\n",
    "\n",
    "#valid periods: 1d,5d,1mo,3mo,6mo,1y,2y,5y,10y,ytd,max\n",
    "\n",
    "# import quandl\n",
    "# df2 = quandl.get('WIKI/NVDA')\n",
    "\n",
    "# import pandas_datareader as pdr\n",
    "# #request API call from https://data.nasdaq.com/sign-up\n",
    "# df3 = pdr.get_data_quandl(\"NVDA\", api_key=\"vjsci8v8EfV-BpoQmxbR\")"
   ]
  },
  {
   "cell_type": "code",
   "execution_count": 4,
   "metadata": {},
   "outputs": [],
   "source": [
    "# df['Difference'] = df['Close'].diff()\n",
    "# df['Difference'].fillna(0,inplace=True)\n",
    "# df['PercentChange'] = round(df['Difference']/ df['Close']*100,2)\n",
    "# df.loc[df['Difference']>0, 'Gain'] = df['Difference']\n",
    "# df.loc[df['Difference']<0, 'Loss'] = -df['Difference']\n",
    "# df['Gain'].fillna(0,inplace=True)\n",
    "# df['Loss'].fillna(0,inplace=True)"
   ]
  },
  {
   "cell_type": "code",
   "execution_count": 5,
   "metadata": {},
   "outputs": [],
   "source": [
    "# for i in range(0,df.shape[0]-14):\n",
    "    \n",
    "#     print(\"Iteration: \", i)\n",
    "#     sumGain=0\n",
    "#     sumLoss=0\n",
    "#     for index, row in df[1+i:14+i].iterrows():\n",
    "#         sumGain=sumGain+row['Gain']\n",
    "#         sumLoss=sumLoss+row['Loss']\n",
    "#     df.loc[df.index==(14+i),'AvgGain']=round(sumGain/8,2)\n",
    "#     df.loc[df.index==(14+i),'SumGain']=sumGain    \n",
    "#     df.loc[df.index==(14+i),'AvgLoss']=round(sumLoss/8,2)    \n",
    "#     df.loc[df.index==(14+i),'SumLoss']=sumLoss    \n",
    "\n",
    "        "
   ]
  },
  {
   "cell_type": "code",
   "execution_count": 6,
   "metadata": {},
   "outputs": [],
   "source": [
    "# df['RS'] = round(df['AvgGain']/df['AvgLoss'],2)\n",
    "# df['AvgGain'].fillna(0,inplace=True)\n",
    "# df['AvgLoss'].fillna(0,inplace=True)\n",
    "# df['RS'].fillna(0,inplace=True)\n",
    "# df['RSI'] = round(100-(100/(1+df['RS'])),2)\n",
    "# df.drop(range(0,14),inplace=True)"
   ]
  },
  {
   "cell_type": "code",
   "execution_count": 7,
   "metadata": {},
   "outputs": [],
   "source": [
    "df=df.reset_index()\n",
    "df['Date']=pd.to_datetime(df['Date'])"
   ]
  },
  {
   "cell_type": "code",
   "execution_count": 8,
   "metadata": {},
   "outputs": [],
   "source": [
    "df=df[['Date','Open','High','Low','Close']]\n",
    "df['Close']=round(df['Close'],2)"
   ]
  },
  {
   "cell_type": "code",
   "execution_count": 9,
   "metadata": {},
   "outputs": [],
   "source": [
    "df['RSI']=round(ta.rsi(df['Close'], timeperiod=14),2)\n",
    "df.drop(range(0,14),inplace=True)\n",
    "df.reset_index(drop=True,inplace=True)"
   ]
  },
  {
   "cell_type": "code",
   "execution_count": 10,
   "metadata": {},
   "outputs": [],
   "source": [
    "df['Oversold']=30\n",
    "df['Overbought']=70"
   ]
  },
  {
   "cell_type": "code",
   "execution_count": 11,
   "metadata": {
    "scrolled": false
   },
   "outputs": [],
   "source": [
    "Base = alt.Chart(df).mark_line().encode(\n",
    "    x='Date:T',\n",
    "    y='RSI:Q'\n",
    ").interactive()\n",
    "\n",
    "Oversold = alt.Chart(df).mark_line(color= 'red').encode(\n",
    "    x='Date:T',\n",
    "    y='Oversold:Q'\n",
    ")\n",
    "\n",
    "Overbought = alt.Chart(df).mark_line(color= 'green').encode(\n",
    "    x='Date:T',\n",
    "    y='Overbought:Q'\n",
    ")\n",
    "\n",
    "RSI_Chart=Base+Oversold+Overbought"
   ]
  },
  {
   "cell_type": "code",
   "execution_count": 12,
   "metadata": {},
   "outputs": [],
   "source": [
    "#initial values\n",
    "startAmount=1000\n",
    "startPrice=df.iloc[0]['Close']\n",
    "shares=round(startAmount/startPrice,3)\n",
    "\n",
    "RSI_Sell=90\n",
    "RSI_Buy=61\n",
    "\n",
    "Sell_Flag=0"
   ]
  },
  {
   "cell_type": "code",
   "execution_count": 13,
   "metadata": {},
   "outputs": [
    {
     "data": {
      "text/html": [
       "<div>\n",
       "<style scoped>\n",
       "    .dataframe tbody tr th:only-of-type {\n",
       "        vertical-align: middle;\n",
       "    }\n",
       "\n",
       "    .dataframe tbody tr th {\n",
       "        vertical-align: top;\n",
       "    }\n",
       "\n",
       "    .dataframe thead th {\n",
       "        text-align: right;\n",
       "    }\n",
       "</style>\n",
       "<table border=\"1\" class=\"dataframe\">\n",
       "  <thead>\n",
       "    <tr style=\"text-align: right;\">\n",
       "      <th></th>\n",
       "      <th>Date</th>\n",
       "      <th>Price</th>\n",
       "      <th>Shares</th>\n",
       "      <th>Amount</th>\n",
       "      <th>RSI</th>\n",
       "      <th>Buy/Sell</th>\n",
       "      <th>Profit/Loss</th>\n",
       "      <th>Profit/Loss %</th>\n",
       "    </tr>\n",
       "  </thead>\n",
       "  <tbody>\n",
       "    <tr>\n",
       "      <th>0</th>\n",
       "      <td>2021-10-10</td>\n",
       "      <td>56.59</td>\n",
       "      <td>17.671</td>\n",
       "      <td>1000</td>\n",
       "      <td>26.67</td>\n",
       "      <td>Buy</td>\n",
       "      <td>0</td>\n",
       "      <td>0</td>\n",
       "    </tr>\n",
       "  </tbody>\n",
       "</table>\n",
       "</div>"
      ],
      "text/plain": [
       "        Date  Price  Shares Amount    RSI Buy/Sell Profit/Loss Profit/Loss %\n",
       "0 2021-10-10  56.59  17.671   1000  26.67      Buy           0             0"
      ]
     },
     "execution_count": 13,
     "metadata": {},
     "output_type": "execute_result"
    }
   ],
   "source": [
    "#Final Dateframe with Initialize Info\n",
    "Final = pd.DataFrame(columns = ['Date','Price','Shares', 'Amount','RSI','Buy/Sell','Profit/Loss','Profit/Loss %'])\n",
    "Final = Final.append({'Date' : df.iloc[0]['Date'], \n",
    "              'Price' : startPrice,\n",
    "              'Shares' : shares, \n",
    "              'Amount' : startAmount,\n",
    "              'RSI': df.iloc[0]['RSI'],\n",
    "              'Buy/Sell': 'Buy',\n",
    "              'Profit/Loss':0,\n",
    "              'Profit/Loss %':0},ignore_index=True)\n",
    "\n",
    "Long_Term = Final\n",
    "Final.head()"
   ]
  },
  {
   "cell_type": "code",
   "execution_count": 14,
   "metadata": {},
   "outputs": [
    {
     "name": "stdout",
     "output_type": "stream",
     "text": [
      "Start Price: $56.59\n",
      "Start Shares:  17.671\n",
      "RSI Sell Signal: >= 90\n",
      "RSI Buy Signal: < 61\n"
     ]
    }
   ],
   "source": [
    "print('Start Price:', '${:,.2f}'.format(startPrice))\n",
    "print('Start Shares: ', shares)\n",
    "print('RSI Sell Signal: >=', RSI_Sell)\n",
    "print('RSI Buy Signal: <', RSI_Buy)"
   ]
  },
  {
   "cell_type": "code",
   "execution_count": 15,
   "metadata": {},
   "outputs": [],
   "source": [
    "for index, row in df.iterrows():\n",
    "    if index!=0 and row['RSI']>=RSI_Sell and Sell_Flag==0:\n",
    "        Sell_Flag=1\n",
    "        Sold_Amount=Final.iloc[-1]['Shares']*row['Close']\n",
    "        Final = Final.append({\n",
    "              'Date' : row['Date'], \n",
    "              'Price' : row['Close'],\n",
    "              'Shares' : 0, \n",
    "              'Amount' : Sold_Amount,\n",
    "              'RSI': row['RSI'],\n",
    "              'Buy/Sell': 'Sell',\n",
    "              'Profit/Loss': round(Sold_Amount-Final.iloc[-1]['Amount'],2),\n",
    "              'Profit/Loss %': round((Sold_Amount-Final.iloc[-1]['Amount'])/Final.iloc[-1]['Amount']*100,2)                              \n",
    "                            },ignore_index=True)\n",
    "    \n",
    "    elif index!=0 and row['RSI']<RSI_Buy and Sell_Flag==1:\n",
    "        Sell_Flag=0\n",
    "        Final = Final.append({\n",
    "              'Date' : row['Date'], \n",
    "              'Price' : row['Close'],\n",
    "              'Shares' : Final.iloc[-1]['Amount']/row['Close'], \n",
    "              'Amount' : Final.iloc[-1]['Amount'],\n",
    "              'RSI': row['RSI'],\n",
    "              'Buy/Sell': 'Buy',\n",
    "              'Profit/Loss':0,\n",
    "              'Profit/Loss %':0                              \n",
    "                            },ignore_index=True)"
   ]
  },
  {
   "cell_type": "code",
   "execution_count": 16,
   "metadata": {},
   "outputs": [],
   "source": [
    "if Final.iloc[-1]['Buy/Sell']=='Buy':\n",
    "    Sold_Amount=df.iloc[-1]['Close']*Final.iloc[-1]['Shares']\n",
    "    \n",
    "    Final = Final.append({\n",
    "              'Date' : df.iloc[-1]['Date'], \n",
    "              'Price' : df.iloc[-1]['Close'],\n",
    "              'Shares' : 0, \n",
    "              'Amount' : Sold_Amount,\n",
    "              'RSI': df.iloc[-1]['RSI'],\n",
    "              'Buy/Sell': 'Sell',\n",
    "              'Profit/Loss':Sold_Amount-Final.iloc[-1]['Amount'],\n",
    "              'Profit/Loss %':round((Sold_Amount-Final.iloc[-1]['Amount'])/Final.iloc[-1]['Amount']*100,2)                              \n",
    "                            },ignore_index=True)"
   ]
  },
  {
   "cell_type": "code",
   "execution_count": 17,
   "metadata": {},
   "outputs": [],
   "source": [
    "Long_Term = Final.iloc[[0, -1]]\n",
    "Long_Term.reset_index(drop=True,inplace=True)\n",
    "Long_Term.at[1, 'Amount'] = Long_Term.iloc[-1]['Price']*Long_Term.iloc[0]['Shares']\n",
    "Long_Term.at[1, 'Buy/Sell'] = 'Sell'\n",
    "Long_Term.at[1, 'Profit/Loss'] = Long_Term.iloc[-1]['Amount']-Long_Term.iloc[0]['Amount']\n",
    "Long_Term.at[1, 'Profit/Loss %'] = round(Long_Term.at[1, 'Profit/Loss']/Long_Term.iloc[0]['Amount']*100,2)"
   ]
  },
  {
   "cell_type": "code",
   "execution_count": 18,
   "metadata": {},
   "outputs": [
    {
     "data": {
      "text/html": [
       "\n",
       "<div id=\"altair-viz-24f97c8e6766470597608cf2fcef7be2\"></div>\n",
       "<script type=\"text/javascript\">\n",
       "  (function(spec, embedOpt){\n",
       "    let outputDiv = document.currentScript.previousElementSibling;\n",
       "    if (outputDiv.id !== \"altair-viz-24f97c8e6766470597608cf2fcef7be2\") {\n",
       "      outputDiv = document.getElementById(\"altair-viz-24f97c8e6766470597608cf2fcef7be2\");\n",
       "    }\n",
       "    const paths = {\n",
       "      \"vega\": \"https://cdn.jsdelivr.net/npm//vega@5?noext\",\n",
       "      \"vega-lib\": \"https://cdn.jsdelivr.net/npm//vega-lib?noext\",\n",
       "      \"vega-lite\": \"https://cdn.jsdelivr.net/npm//vega-lite@4.8.1?noext\",\n",
       "      \"vega-embed\": \"https://cdn.jsdelivr.net/npm//vega-embed@6?noext\",\n",
       "    };\n",
       "\n",
       "    function loadScript(lib) {\n",
       "      return new Promise(function(resolve, reject) {\n",
       "        var s = document.createElement('script');\n",
       "        s.src = paths[lib];\n",
       "        s.async = true;\n",
       "        s.onload = () => resolve(paths[lib]);\n",
       "        s.onerror = () => reject(`Error loading script: ${paths[lib]}`);\n",
       "        document.getElementsByTagName(\"head\")[0].appendChild(s);\n",
       "      });\n",
       "    }\n",
       "\n",
       "    function showError(err) {\n",
       "      outputDiv.innerHTML = `<div class=\"error\" style=\"color:red;\">${err}</div>`;\n",
       "      throw err;\n",
       "    }\n",
       "\n",
       "    function displayChart(vegaEmbed) {\n",
       "      vegaEmbed(outputDiv, spec, embedOpt)\n",
       "        .catch(err => showError(`Javascript Error: ${err.message}<br>This usually means there's a typo in your chart specification. See the javascript console for the full traceback.`));\n",
       "    }\n",
       "\n",
       "    if(typeof define === \"function\" && define.amd) {\n",
       "      requirejs.config({paths});\n",
       "      require([\"vega-embed\"], displayChart, err => showError(`Error loading script: ${err.message}`));\n",
       "    } else if (typeof vegaEmbed === \"function\") {\n",
       "      displayChart(vegaEmbed);\n",
       "    } else {\n",
       "      loadScript(\"vega\")\n",
       "        .then(() => loadScript(\"vega-lite\"))\n",
       "        .then(() => loadScript(\"vega-embed\"))\n",
       "        .catch(showError)\n",
       "        .then(() => displayChart(vegaEmbed));\n",
       "    }\n",
       "  })({\"config\": {\"view\": {\"continuousWidth\": 400, \"continuousHeight\": 300}}, \"vconcat\": [{\"mark\": \"line\", \"encoding\": {\"tooltip\": [{\"type\": \"quantitative\", \"field\": \"Close\"}], \"x\": {\"type\": \"temporal\", \"field\": \"Date\"}, \"y\": {\"type\": \"quantitative\", \"field\": \"Close\"}}, \"height\": 500, \"width\": 900}, {\"layer\": [{\"mark\": \"line\", \"encoding\": {\"x\": {\"type\": \"temporal\", \"field\": \"Date\"}, \"y\": {\"type\": \"quantitative\", \"field\": \"RSI\"}}, \"selection\": {\"selector001\": {\"type\": \"interval\", \"bind\": \"scales\", \"encodings\": [\"x\", \"y\"]}}}, {\"mark\": {\"type\": \"line\", \"color\": \"red\"}, \"encoding\": {\"x\": {\"type\": \"temporal\", \"field\": \"Date\"}, \"y\": {\"type\": \"quantitative\", \"field\": \"Oversold\"}}}, {\"mark\": {\"type\": \"line\", \"color\": \"green\"}, \"encoding\": {\"x\": {\"type\": \"temporal\", \"field\": \"Date\"}, \"y\": {\"type\": \"quantitative\", \"field\": \"Overbought\"}}}, {\"data\": {\"name\": \"data-400c51f9849ec35f1c9ab1d41d573bde\"}, \"mark\": {\"type\": \"circle\", \"color\": \"Blue\", \"size\": 90}, \"encoding\": {\"color\": {\"type\": \"nominal\", \"field\": \"Buy/Sell\"}, \"tooltip\": [{\"type\": \"temporal\", \"field\": \"Date\"}, {\"type\": \"quantitative\", \"field\": \"RSI\"}], \"x\": {\"type\": \"temporal\", \"field\": \"Date\"}, \"y\": {\"type\": \"quantitative\", \"field\": \"RSI\"}}, \"height\": 300, \"width\": 900}]}], \"data\": {\"name\": \"data-9c89e4c85a9cb442a3e304de419bd186\"}, \"$schema\": \"https://vega.github.io/schema/vega-lite/v4.8.1.json\", \"datasets\": {\"data-9c89e4c85a9cb442a3e304de419bd186\": [{\"Date\": \"2021-10-10T00:00:00\", \"Open\": 60.57084655761719, \"High\": 60.883995056152344, \"Low\": 55.5444221496582, \"Close\": 56.59, \"RSI\": 26.67, \"Oversold\": 30, \"Overbought\": 70}, {\"Date\": \"2021-10-11T00:00:00\", \"Open\": 56.58945083618164, \"High\": 59.19413757324219, \"Low\": 53.95623016357422, \"Close\": 55.3, \"RSI\": 24.77, \"Oversold\": 30, \"Overbought\": 70}, {\"Date\": \"2021-10-12T00:00:00\", \"Open\": 55.33838653564453, \"High\": 55.33838653564453, \"Low\": 51.22761535644531, \"Close\": 54.36, \"RSI\": 23.46, \"Oversold\": 30, \"Overbought\": 70}, {\"Date\": \"2021-10-13T00:00:00\", \"Open\": 54.353675842285156, \"High\": 57.05287551879883, \"Low\": 53.33034133911133, \"Close\": 55.15, \"RSI\": 26.96, \"Oversold\": 30, \"Overbought\": 70}, {\"Date\": \"2021-10-14T00:00:00\", \"Open\": 54.99287414550781, \"High\": 58.4278678894043, \"Low\": 54.95210266113281, \"Close\": 56.08, \"RSI\": 30.95, \"Oversold\": 30, \"Overbought\": 70}, {\"Date\": \"2021-10-15T00:00:00\", \"Open\": 56.17885971069336, \"High\": 57.09015655517578, \"Low\": 54.60218811035156, \"Close\": 56.25, \"RSI\": 31.69, \"Oversold\": 30, \"Overbought\": 70}, {\"Date\": \"2021-10-16T00:00:00\", \"Open\": 56.310176849365234, \"High\": 61.83980178833008, \"Low\": 55.712100982666016, \"Close\": 57.48, \"RSI\": 36.93, \"Oversold\": 30, \"Overbought\": 70}, {\"Date\": \"2021-10-17T00:00:00\", \"Open\": 57.569976806640625, \"High\": 58.53270721435547, \"Low\": 53.55379104614258, \"Close\": 56.08, \"RSI\": 33.75, \"Oversold\": 30, \"Overbought\": 70}, {\"Date\": \"2021-10-18T00:00:00\", \"Open\": 56.03767013549805, \"High\": 56.42582321166992, \"Low\": 54.25412368774414, \"Close\": 55.47, \"RSI\": 32.45, \"Oversold\": 30, \"Overbought\": 70}, {\"Date\": \"2021-10-19T00:00:00\", \"Open\": 55.531333923339844, \"High\": 58.032936096191406, \"Low\": 55.129127502441406, \"Close\": 56.82, \"RSI\": 38.16, \"Oversold\": 30, \"Overbought\": 70}, {\"Date\": \"2021-10-20T00:00:00\", \"Open\": 56.80744171142578, \"High\": 61.55341339111328, \"Low\": 56.72520446777344, \"Close\": 59.56, \"RSI\": 47.8, \"Oversold\": 30, \"Overbought\": 70}, {\"Date\": \"2021-10-21T00:00:00\", \"Open\": 59.63168716430664, \"High\": 64.31205749511719, \"Low\": 58.89551544189453, \"Close\": 61.31, \"RSI\": 52.86, \"Oversold\": 30, \"Overbought\": 70}, {\"Date\": \"2021-10-22T00:00:00\", \"Open\": 61.4479866027832, \"High\": 68.64178466796875, \"Low\": 61.42253112792969, \"Close\": 65.46, \"RSI\": 62.21, \"Oversold\": 30, \"Overbought\": 70}, {\"Date\": \"2021-10-23T00:00:00\", \"Open\": 65.532470703125, \"High\": 69.10169982910156, \"Low\": 64.56714630126953, \"Close\": 65.46, \"RSI\": 62.21, \"Oversold\": 30, \"Overbought\": 70}, {\"Date\": \"2021-10-24T00:00:00\", \"Open\": 65.43511199951172, \"High\": 67.58838653564453, \"Low\": 61.973976135253906, \"Close\": 64.52, \"RSI\": 59.13, \"Oversold\": 30, \"Overbought\": 70}, {\"Date\": \"2021-10-25T00:00:00\", \"Open\": 64.55366516113281, \"High\": 69.82469177246094, \"Low\": 64.38153076171875, \"Close\": 69.82, \"RSI\": 68.58, \"Oversold\": 30, \"Overbought\": 70}, {\"Date\": \"2021-10-26T00:00:00\", \"Open\": 69.70967102050781, \"High\": 72.88220977783203, \"Low\": 67.8232192993164, \"Close\": 68.87, \"RSI\": 65.65, \"Oversold\": 30, \"Overbought\": 70}, {\"Date\": \"2021-10-27T00:00:00\", \"Open\": 68.67195892333984, \"High\": 69.54865264892578, \"Low\": 57.861244201660156, \"Close\": 61.52, \"RSI\": 48.41, \"Oversold\": 30, \"Overbought\": 70}, {\"Date\": \"2021-10-28T00:00:00\", \"Open\": 61.52543258666992, \"High\": 64.93131256103516, \"Low\": 61.52543258666992, \"Close\": 64.43, \"RSI\": 53.61, \"Oversold\": 30, \"Overbought\": 70}, {\"Date\": \"2021-10-29T00:00:00\", \"Open\": 64.38318634033203, \"High\": 66.12731170654297, \"Low\": 63.538700103759766, \"Close\": 64.77, \"RSI\": 54.19, \"Oversold\": 30, \"Overbought\": 70}, {\"Date\": \"2021-10-30T00:00:00\", \"Open\": 64.73323822021484, \"High\": 64.77537536621094, \"Low\": 61.09536361694336, \"Close\": 62.42, \"RSI\": 49.57, \"Oversold\": 30, \"Overbought\": 70}, {\"Date\": \"2021-10-31T00:00:00\", \"Open\": 62.31325149536133, \"High\": 64.43634033203125, \"Low\": 60.341033935546875, \"Close\": 64.29, \"RSI\": 53.0, \"Oversold\": 30, \"Overbought\": 70}, {\"Date\": \"2021-11-01T00:00:00\", \"Open\": 64.499267578125, \"High\": 66.68616485595703, \"Low\": 62.35919189453125, \"Close\": 65.07, \"RSI\": 54.4, \"Oversold\": 30, \"Overbought\": 70}, {\"Date\": \"2021-11-02T00:00:00\", \"Open\": 64.96826934814453, \"High\": 68.04741668701172, \"Low\": 64.34379577636719, \"Close\": 67.58, \"RSI\": 58.64, \"Oversold\": 30, \"Overbought\": 70}, {\"Date\": \"2021-11-03T00:00:00\", \"Open\": 67.77308654785156, \"High\": 75.5360336303711, \"Low\": 67.15084075927734, \"Close\": 75.43, \"RSI\": 68.52, \"Oversold\": 30, \"Overbought\": 70}, {\"Date\": \"2021-11-04T00:00:00\", \"Open\": 75.57763671875, \"High\": 80.96538543701172, \"Low\": 74.12528228759766, \"Close\": 79.29, \"RSI\": 72.06, \"Oversold\": 30, \"Overbought\": 70}, {\"Date\": \"2021-11-05T00:00:00\", \"Open\": 79.04759979248047, \"High\": 81.07434844970703, \"Low\": 72.4581527709961, \"Close\": 74.36, \"RSI\": 62.42, \"Oversold\": 30, \"Overbought\": 70}, {\"Date\": \"2021-11-06T00:00:00\", \"Open\": 74.2966537475586, \"High\": 78.6852035522461, \"Low\": 72.51919555664062, \"Close\": 78.69, \"RSI\": 66.64, \"Oversold\": 30, \"Overbought\": 70}, {\"Date\": \"2021-11-07T00:00:00\", \"Open\": 78.805908203125, \"High\": 88.83885955810547, \"Low\": 78.13878631591797, \"Close\": 87.71, \"RSI\": 73.35, \"Oversold\": 30, \"Overbought\": 70}, {\"Date\": \"2021-11-08T00:00:00\", \"Open\": 87.70599365234375, \"High\": 96.91317749023438, \"Low\": 83.72738647460938, \"Close\": 91.18, \"RSI\": 75.4, \"Oversold\": 30, \"Overbought\": 70}, {\"Date\": \"2021-11-09T00:00:00\", \"Open\": 91.07372283935547, \"High\": 91.53675079345703, \"Low\": 87.08097076416016, \"Close\": 88.45, \"RSI\": 70.79, \"Oversold\": 30, \"Overbought\": 70}, {\"Date\": \"2021-11-10T00:00:00\", \"Open\": 88.30364990234375, \"High\": 94.02408599853516, \"Low\": 78.64884185791016, \"Close\": 85.3, \"RSI\": 65.78, \"Oversold\": 30, \"Overbought\": 70}, {\"Date\": \"2021-11-11T00:00:00\", \"Open\": 85.38166809082031, \"High\": 89.5385513305664, \"Low\": 83.8404769897461, \"Close\": 88.06, \"RSI\": 67.92, \"Oversold\": 30, \"Overbought\": 70}, {\"Date\": \"2021-11-12T00:00:00\", \"Open\": 87.87525939941406, \"High\": 89.97445678710938, \"Low\": 81.3184814453125, \"Close\": 84.72, \"RSI\": 62.81, \"Oversold\": 30, \"Overbought\": 70}, {\"Date\": \"2021-11-13T00:00:00\", \"Open\": 84.79679107666016, \"High\": 98.4414291381836, \"Low\": 84.79679107666016, \"Close\": 97.26, \"RSI\": 71.49, \"Oversold\": 30, \"Overbought\": 70}, {\"Date\": \"2021-11-14T00:00:00\", \"Open\": 97.55558013916016, \"High\": 99.88334655761719, \"Low\": 91.8102798461914, \"Close\": 95.4, \"RSI\": 68.92, \"Oversold\": 30, \"Overbought\": 70}, {\"Date\": \"2021-11-15T00:00:00\", \"Open\": 95.42015075683594, \"High\": 101.58605194091797, \"Low\": 92.25428771972656, \"Close\": 93.55, \"RSI\": 66.36, \"Oversold\": 30, \"Overbought\": 70}, {\"Date\": \"2021-11-16T00:00:00\", \"Open\": 94.03178405761719, \"High\": 101.86246490478516, \"Low\": 84.00017547607422, \"Close\": 97.98, \"RSI\": 69.3, \"Oversold\": 30, \"Overbought\": 70}, {\"Date\": \"2021-11-17T00:00:00\", \"Open\": 98.0262451171875, \"High\": 110.03197479248047, \"Low\": 94.12252044677734, \"Close\": 107.8, \"RSI\": 74.59, \"Oversold\": 30, \"Overbought\": 70}, {\"Date\": \"2021-11-18T00:00:00\", \"Open\": 107.58499908447266, \"High\": 110.30876159667969, \"Low\": 92.3647232055664, \"Close\": 100.25, \"RSI\": 65.27, \"Oversold\": 30, \"Overbought\": 70}, {\"Date\": \"2021-11-19T00:00:00\", \"Open\": 100.45767211914062, \"High\": 112.11190795898438, \"Low\": 96.07148742675781, \"Close\": 112.02, \"RSI\": 71.3, \"Oversold\": 30, \"Overbought\": 70}, {\"Date\": \"2021-11-20T00:00:00\", \"Open\": 112.08431243896484, \"High\": 129.93348693847656, \"Low\": 111.91291809082031, \"Close\": 125.77, \"RSI\": 76.44, \"Oversold\": 30, \"Overbought\": 70}, {\"Date\": \"2021-11-21T00:00:00\", \"Open\": 125.82982635498047, \"High\": 146.21786499023438, \"Low\": 123.5483627319336, \"Close\": 128.6, \"RSI\": 77.34, \"Oversold\": 30, \"Overbought\": 70}, {\"Date\": \"2021-11-22T00:00:00\", \"Open\": 128.78257751464844, \"High\": 144.8818817138672, \"Low\": 126.19261169433594, \"Close\": 134.53, \"RSI\": 79.13, \"Oversold\": 30, \"Overbought\": 70}, {\"Date\": \"2021-11-23T00:00:00\", \"Open\": 134.8655548095703, \"High\": 136.53814697265625, \"Low\": 122.1111068725586, \"Close\": 123.83, \"RSI\": 68.57, \"Oversold\": 30, \"Overbought\": 70}, {\"Date\": \"2021-11-24T00:00:00\", \"Open\": 123.87862396240234, \"High\": 124.50963592529297, \"Low\": 113.00045776367188, \"Close\": 120.23, \"RSI\": 65.4, \"Oversold\": 30, \"Overbought\": 70}, {\"Date\": \"2021-11-25T00:00:00\", \"Open\": 115.08684539794922, \"High\": 130.04270935058594, \"Low\": 114.35224151611328, \"Close\": 122.65, \"RSI\": 66.52, \"Oversold\": 30, \"Overbought\": 70}, {\"Date\": \"2021-11-26T00:00:00\", \"Open\": 119.16424560546875, \"High\": 119.82817840576172, \"Low\": 102.0291519165039, \"Close\": 103.83, \"RSI\": 52.34, \"Oversold\": 30, \"Overbought\": 70}, {\"Date\": \"2021-11-27T00:00:00\", \"Open\": 104.30207824707031, \"High\": 118.07991027832031, \"Low\": 103.33889770507812, \"Close\": 113.28, \"RSI\": 57.27, \"Oversold\": 30, \"Overbought\": 70}, {\"Date\": \"2021-11-28T00:00:00\", \"Open\": 113.75386810302734, \"High\": 114.00462341308594, \"Low\": 101.44112396240234, \"Close\": 110.59, \"RSI\": 55.51, \"Oversold\": 30, \"Overbought\": 70}, {\"Date\": \"2021-11-29T00:00:00\", \"Open\": 110.49513244628906, \"High\": 120.25830078125, \"Low\": 109.4160385131836, \"Close\": 120.26, \"RSI\": 60.24, \"Oversold\": 30, \"Overbought\": 70}, {\"Date\": \"2021-11-30T00:00:00\", \"Open\": 120.44221496582031, \"High\": 124.55531311035156, \"Low\": 114.48907470703125, \"Close\": 120.34, \"RSI\": 60.27, \"Oversold\": 30, \"Overbought\": 70}, {\"Date\": \"2021-12-01T00:00:00\", \"Open\": 120.2483139038086, \"High\": 127.33001708984375, \"Low\": 117.50407409667969, \"Close\": 119.75, \"RSI\": 59.82, \"Oversold\": 30, \"Overbought\": 70}, {\"Date\": \"2021-12-02T00:00:00\", \"Open\": 119.68126678466797, \"High\": 119.70713806152344, \"Low\": 107.2265396118164, \"Close\": 107.87, \"RSI\": 51.5, \"Oversold\": 30, \"Overbought\": 70}, {\"Date\": \"2021-12-03T00:00:00\", \"Open\": 107.86829376220703, \"High\": 113.17337036132812, \"Low\": 100.80210876464844, \"Close\": 108.14, \"RSI\": 51.67, \"Oversold\": 30, \"Overbought\": 70}, {\"Date\": \"2021-12-04T00:00:00\", \"Open\": 108.73534393310547, \"High\": 108.76348114013672, \"Low\": 77.02176666259766, \"Close\": 92.88, \"RSI\": 42.82, \"Oversold\": 30, \"Overbought\": 70}, {\"Date\": \"2021-12-05T00:00:00\", \"Open\": 93.0193862915039, \"High\": 95.31195068359375, \"Low\": 82.75007629394531, \"Close\": 85.79, \"RSI\": 39.44, \"Oversold\": 30, \"Overbought\": 70}, {\"Date\": \"2021-12-06T00:00:00\", \"Open\": 86.47801971435547, \"High\": 94.89966583251953, \"Low\": 77.19004821777344, \"Close\": 93.32, \"RSI\": 44.45, \"Oversold\": 30, \"Overbought\": 70}, {\"Date\": \"2021-12-07T00:00:00\", \"Open\": 93.34741973876953, \"High\": 96.67762756347656, \"Low\": 88.14965057373047, \"Close\": 89.95, \"RSI\": 42.75, \"Oversold\": 30, \"Overbought\": 70}, {\"Date\": \"2021-12-08T00:00:00\", \"Open\": 89.689697265625, \"High\": 93.24251556396484, \"Low\": 86.7750473022461, \"Close\": 93.22, \"RSI\": 44.96, \"Oversold\": 30, \"Overbought\": 70}, {\"Date\": \"2021-12-09T00:00:00\", \"Open\": 93.0343017578125, \"High\": 94.49478149414062, \"Low\": 83.38975524902344, \"Close\": 85.46, \"RSI\": 40.92, \"Oversold\": 30, \"Overbought\": 70}, {\"Date\": \"2021-12-10T00:00:00\", \"Open\": 85.55989074707031, \"High\": 91.7380599975586, \"Low\": 80.71823120117188, \"Close\": 80.74, \"RSI\": 38.65, \"Oversold\": 30, \"Overbought\": 70}, {\"Date\": \"2021-12-11T00:00:00\", \"Open\": 80.78770446777344, \"High\": 86.99547576904297, \"Low\": 79.29241943359375, \"Close\": 86.39, \"RSI\": 42.75, \"Oversold\": 30, \"Overbought\": 70}, {\"Date\": \"2021-12-12T00:00:00\", \"Open\": 86.42890930175781, \"High\": 88.9035415649414, \"Low\": 83.03515625, \"Close\": 88.11, \"RSI\": 43.97, \"Oversold\": 30, \"Overbought\": 70}, {\"Date\": \"2021-12-13T00:00:00\", \"Open\": 88.10356140136719, \"High\": 90.01011657714844, \"Low\": 75.78592681884766, \"Close\": 79.15, \"RSI\": 39.26, \"Oversold\": 30, \"Overbought\": 70}, {\"Date\": \"2021-12-14T00:00:00\", \"Open\": 79.05278015136719, \"High\": 87.49442291259766, \"Low\": 76.62258911132812, \"Close\": 87.31, \"RSI\": 45.04, \"Oversold\": 30, \"Overbought\": 70}, {\"Date\": \"2021-12-15T00:00:00\", \"Open\": 87.27359008789062, \"High\": 105.26960754394531, \"Low\": 86.30692291259766, \"Close\": 101.18, \"RSI\": 53.19, \"Oversold\": 30, \"Overbought\": 70}, {\"Date\": \"2021-12-16T00:00:00\", \"Open\": 101.20960235595703, \"High\": 109.77005004882812, \"Low\": 98.1049575805664, \"Close\": 98.4, \"RSI\": 51.54, \"Oversold\": 30, \"Overbought\": 70}, {\"Date\": \"2021-12-17T00:00:00\", \"Open\": 98.18189239501953, \"High\": 115.90923309326172, \"Low\": 98.18189239501953, \"Close\": 111.01, \"RSI\": 57.92, \"Oversold\": 30, \"Overbought\": 70}, {\"Date\": \"2021-12-18T00:00:00\", \"Open\": 111.01048278808594, \"High\": 117.37393188476562, \"Low\": 105.63433074951172, \"Close\": 116.02, \"RSI\": 60.17, \"Oversold\": 30, \"Overbought\": 70}, {\"Date\": \"2021-12-19T00:00:00\", \"Open\": 115.85147857666016, \"High\": 116.6953125, \"Low\": 106.94422149658203, \"Close\": 107.67, \"RSI\": 54.91, \"Oversold\": 30, \"Overbought\": 70}, {\"Date\": \"2021-12-20T00:00:00\", \"Open\": 107.68035125732422, \"High\": 115.92378997802734, \"Low\": 101.05682373046875, \"Close\": 113.41, \"RSI\": 57.65, \"Oversold\": 30, \"Overbought\": 70}, {\"Date\": \"2021-12-21T00:00:00\", \"Open\": 113.4013442993164, \"High\": 124.01820373535156, \"Low\": 110.93278503417969, \"Close\": 123.33, \"RSI\": 61.95, \"Oversold\": 30, \"Overbought\": 70}, {\"Date\": \"2021-12-22T00:00:00\", \"Open\": 123.37736511230469, \"High\": 127.42166137695312, \"Low\": 116.06968688964844, \"Close\": 116.48, \"RSI\": 57.6, \"Oversold\": 30, \"Overbought\": 70}, {\"Date\": \"2021-12-23T00:00:00\", \"Open\": 116.73213195800781, \"High\": 124.98141479492188, \"Low\": 116.47274017333984, \"Close\": 121.21, \"RSI\": 59.7, \"Oversold\": 30, \"Overbought\": 70}, {\"Date\": \"2021-12-24T00:00:00\", \"Open\": 121.40023040771484, \"High\": 124.61206817626953, \"Low\": 113.66439056396484, \"Close\": 114.98, \"RSI\": 55.78, \"Oversold\": 30, \"Overbought\": 70}, {\"Date\": \"2021-12-25T00:00:00\", \"Open\": 115.06106567382812, \"High\": 117.17230224609375, \"Low\": 112.56621551513672, \"Close\": 115.03, \"RSI\": 55.8, \"Oversold\": 30, \"Overbought\": 70}, {\"Date\": \"2021-12-26T00:00:00\", \"Open\": 115.00640106201172, \"High\": 117.93435668945312, \"Low\": 109.57318878173828, \"Close\": 115.21, \"RSI\": 55.9, \"Oversold\": 30, \"Overbought\": 70}, {\"Date\": \"2021-12-27T00:00:00\", \"Open\": 115.11151123046875, \"High\": 120.84335327148438, \"Low\": 113.39905548095703, \"Close\": 113.6, \"RSI\": 54.74, \"Oversold\": 30, \"Overbought\": 70}, {\"Date\": \"2021-12-28T00:00:00\", \"Open\": 113.75952911376953, \"High\": 116.61152648925781, \"Low\": 104.70208740234375, \"Close\": 107.22, \"RSI\": 50.29, \"Oversold\": 30, \"Overbought\": 70}, {\"Date\": \"2021-12-29T00:00:00\", \"Open\": 107.12451934814453, \"High\": 110.5587158203125, \"Low\": 102.69532775878906, \"Close\": 103.0, \"RSI\": 47.54, \"Oversold\": 30, \"Overbought\": 70}, {\"Date\": \"2021-12-30T00:00:00\", \"Open\": 103.09717559814453, \"High\": 105.36145782470703, \"Low\": 98.32600402832031, \"Close\": 101.93, \"RSI\": 46.84, \"Oversold\": 30, \"Overbought\": 70}, {\"Date\": \"2021-12-31T00:00:00\", \"Open\": 101.84952545166016, \"High\": 111.50146484375, \"Low\": 100.36100769042969, \"Close\": 109.27, \"RSI\": 52.05, \"Oversold\": 30, \"Overbought\": 70}, {\"Date\": \"2022-01-01T00:00:00\", \"Open\": 109.3815689086914, \"High\": 114.22386169433594, \"Low\": 108.72711944580078, \"Close\": 114.16, \"RSI\": 55.21, \"Oversold\": 30, \"Overbought\": 70}, {\"Date\": \"2022-01-02T00:00:00\", \"Open\": 114.20470428466797, \"High\": 117.31509399414062, \"Low\": 112.21388244628906, \"Close\": 113.19, \"RSI\": 54.44, \"Oversold\": 30, \"Overbought\": 70}, {\"Date\": \"2022-01-03T00:00:00\", \"Open\": 113.17340850830078, \"High\": 113.9012680053711, \"Low\": 106.4570541381836, \"Close\": 108.15, \"RSI\": 50.53, \"Oversold\": 30, \"Overbought\": 70}, {\"Date\": \"2022-01-04T00:00:00\", \"Open\": 108.14706420898438, \"High\": 109.1161117553711, \"Low\": 103.23924255371094, \"Close\": 103.24, \"RSI\": 46.98, \"Oversold\": 30, \"Overbought\": 70}, {\"Date\": \"2022-01-05T00:00:00\", \"Open\": 103.26068115234375, \"High\": 106.46910858154297, \"Low\": 91.3768539428711, \"Close\": 97.85, \"RSI\": 43.38, \"Oversold\": 30, \"Overbought\": 70}, {\"Date\": \"2022-01-06T00:00:00\", \"Open\": 97.83151245117188, \"High\": 97.83151245117188, \"Low\": 91.26378631591797, \"Close\": 95.2, \"RSI\": 41.69, \"Oversold\": 30, \"Overbought\": 70}, {\"Date\": \"2022-01-07T00:00:00\", \"Open\": 95.1787109375, \"High\": 95.29039001464844, \"Low\": 85.43051147460938, \"Close\": 86.77, \"RSI\": 36.78, \"Oversold\": 30, \"Overbought\": 70}, {\"Date\": \"2022-01-08T00:00:00\", \"Open\": 86.75174713134766, \"High\": 89.4328384399414, \"Low\": 79.60858917236328, \"Close\": 84.06, \"RSI\": 35.34, \"Oversold\": 30, \"Overbought\": 70}, {\"Date\": \"2022-01-09T00:00:00\", \"Open\": 84.04851531982422, \"High\": 91.79698944091797, \"Low\": 82.92852783203125, \"Close\": 89.21, \"RSI\": 40.14, \"Oversold\": 30, \"Overbought\": 70}, {\"Date\": \"2022-01-10T00:00:00\", \"Open\": 89.2571029663086, \"High\": 90.84400939941406, \"Low\": 80.86058807373047, \"Close\": 84.53, \"RSI\": 37.42, \"Oversold\": 30, \"Overbought\": 70}, {\"Date\": \"2022-01-11T00:00:00\", \"Open\": 84.52545928955078, \"High\": 90.85680389404297, \"Low\": 83.47099304199219, \"Close\": 89.5, \"RSI\": 41.92, \"Oversold\": 30, \"Overbought\": 70}, {\"Date\": \"2022-01-12T00:00:00\", \"Open\": 89.52240753173828, \"High\": 96.76172637939453, \"Low\": 88.98726654052734, \"Close\": 95.82, \"RSI\": 47.13, \"Oversold\": 30, \"Overbought\": 70}, {\"Date\": \"2022-01-13T00:00:00\", \"Open\": 95.8235092163086, \"High\": 97.10579681396484, \"Low\": 89.40788269042969, \"Close\": 89.41, \"RSI\": 42.92, \"Oversold\": 30, \"Overbought\": 70}, {\"Date\": \"2022-01-14T00:00:00\", \"Open\": 89.4791030883789, \"High\": 91.63262939453125, \"Low\": 87.66128540039062, \"Close\": 90.34, \"RSI\": 43.71, \"Oversold\": 30, \"Overbought\": 70}, {\"Date\": \"2022-01-15T00:00:00\", \"Open\": 90.35389709472656, \"High\": 94.32180786132812, \"Low\": 89.82750701904297, \"Close\": 93.32, \"RSI\": 46.26, \"Oversold\": 30, \"Overbought\": 70}, {\"Date\": \"2022-01-16T00:00:00\", \"Open\": 93.30461120605469, \"High\": 94.83049774169922, \"Low\": 92.00743103027344, \"Close\": 92.24, \"RSI\": 45.45, \"Oversold\": 30, \"Overbought\": 70}, {\"Date\": \"2022-01-17T00:00:00\", \"Open\": 92.25555419921875, \"High\": 92.41230010986328, \"Low\": 85.69480895996094, \"Close\": 86.75, \"RSI\": 41.51, \"Oversold\": 30, \"Overbought\": 70}, {\"Date\": \"2022-01-18T00:00:00\", \"Open\": 86.7541275024414, \"High\": 87.32592010498047, \"Low\": 83.92218017578125, \"Close\": 86.01, \"RSI\": 40.99, \"Oversold\": 30, \"Overbought\": 70}, {\"Date\": \"2022-01-19T00:00:00\", \"Open\": 86.02388763427734, \"High\": 86.35029602050781, \"Low\": 81.42071533203125, \"Close\": 82.9, \"RSI\": 38.81, \"Oversold\": 30, \"Overbought\": 70}, {\"Date\": \"2022-01-20T00:00:00\", \"Open\": 82.89617919921875, \"High\": 87.64208984375, \"Low\": 79.0684585571289, \"Close\": 79.07, \"RSI\": 36.24, \"Oversold\": 30, \"Overbought\": 70}, {\"Date\": \"2022-01-21T00:00:00\", \"Open\": 79.13545227050781, \"High\": 80.30150604248047, \"Low\": 64.55644989013672, \"Close\": 65.92, \"RSI\": 29.13, \"Oversold\": 30, \"Overbought\": 70}, {\"Date\": \"2022-01-22T00:00:00\", \"Open\": 65.96820831298828, \"High\": 67.46713256835938, \"Low\": 53.939334869384766, \"Close\": 59.73, \"RSI\": 26.49, \"Oversold\": 30, \"Overbought\": 70}, {\"Date\": \"2022-01-23T00:00:00\", \"Open\": 59.793182373046875, \"High\": 66.7040023803711, \"Low\": 59.43529510498047, \"Close\": 64.73, \"RSI\": 31.86, \"Oversold\": 30, \"Overbought\": 70}, {\"Date\": \"2022-01-24T00:00:00\", \"Open\": 64.75294494628906, \"High\": 64.80488586425781, \"Low\": 55.57115173339844, \"Close\": 62.88, \"RSI\": 30.96, \"Oversold\": 30, \"Overbought\": 70}, {\"Date\": \"2022-01-25T00:00:00\", \"Open\": 62.8973388671875, \"High\": 70.34447479248047, \"Low\": 61.89265441894531, \"Close\": 67.9, \"RSI\": 36.22, \"Oversold\": 30, \"Overbought\": 70}, {\"Date\": \"2022-01-26T00:00:00\", \"Open\": 67.89398956298828, \"High\": 72.9193344116211, \"Low\": 64.65972900390625, \"Close\": 66.0, \"RSI\": 35.13, \"Oversold\": 30, \"Overbought\": 70}, {\"Date\": \"2022-01-27T00:00:00\", \"Open\": 65.96631622314453, \"High\": 67.78236389160156, \"Low\": 61.33854293823242, \"Close\": 64.7, \"RSI\": 34.37, \"Oversold\": 30, \"Overbought\": 70}, {\"Date\": \"2022-01-28T00:00:00\", \"Open\": 64.63536071777344, \"High\": 67.32410430908203, \"Low\": 61.94146728515625, \"Close\": 67.13, \"RSI\": 37.12, \"Oversold\": 30, \"Overbought\": 70}, {\"Date\": \"2022-01-29T00:00:00\", \"Open\": 67.1183853149414, \"High\": 73.44132995605469, \"Low\": 67.0089111328125, \"Close\": 72.12, \"RSI\": 42.45, \"Oversold\": 30, \"Overbought\": 70}, {\"Date\": \"2022-01-30T00:00:00\", \"Open\": 72.10572052001953, \"High\": 72.23008728027344, \"Low\": 67.01190948486328, \"Close\": 67.97, \"RSI\": 39.46, \"Oversold\": 30, \"Overbought\": 70}, {\"Date\": \"2022-01-31T00:00:00\", \"Open\": 67.982177734375, \"High\": 70.55558776855469, \"Low\": 64.40384674072266, \"Close\": 69.99, \"RSI\": 41.62, \"Oversold\": 30, \"Overbought\": 70}, {\"Date\": \"2022-02-01T00:00:00\", \"Open\": 69.98311614990234, \"High\": 73.74280548095703, \"Low\": 68.84741973876953, \"Close\": 73.45, \"RSI\": 45.22, \"Oversold\": 30, \"Overbought\": 70}, {\"Date\": \"2022-02-02T00:00:00\", \"Open\": 73.43240356445312, \"High\": 74.50801849365234, \"Low\": 67.75288391113281, \"Close\": 67.88, \"RSI\": 40.85, \"Oversold\": 30, \"Overbought\": 70}, {\"Date\": \"2022-02-03T00:00:00\", \"Open\": 67.86044311523438, \"High\": 68.85530090332031, \"Low\": 65.3459701538086, \"Close\": 68.11, \"RSI\": 41.1, \"Oversold\": 30, \"Overbought\": 70}, {\"Date\": \"2022-02-04T00:00:00\", \"Open\": 68.10842895507812, \"High\": 77.4994888305664, \"Low\": 67.62190246582031, \"Close\": 77.31, \"RSI\": 50.28, \"Oversold\": 30, \"Overbought\": 70}, {\"Date\": \"2022-02-05T00:00:00\", \"Open\": 77.46501159667969, \"High\": 80.75987243652344, \"Low\": 75.34907531738281, \"Close\": 77.25, \"RSI\": 50.22, \"Oversold\": 30, \"Overbought\": 70}, {\"Date\": \"2022-02-06T00:00:00\", \"Open\": 77.24199676513672, \"High\": 78.92948913574219, \"Low\": 74.62030029296875, \"Close\": 78.76, \"RSI\": 51.65, \"Oversold\": 30, \"Overbought\": 70}, {\"Date\": \"2022-02-07T00:00:00\", \"Open\": 78.79586791992188, \"High\": 85.17305755615234, \"Low\": 77.64534759521484, \"Close\": 83.17, \"RSI\": 55.66, \"Oversold\": 30, \"Overbought\": 70}, {\"Date\": \"2022-02-08T00:00:00\", \"Open\": 83.21994018554688, \"High\": 92.37202453613281, \"Low\": 82.05577850341797, \"Close\": 86.62, \"RSI\": 58.56, \"Oversold\": 30, \"Overbought\": 70}, {\"Date\": \"2022-02-09T00:00:00\", \"Open\": 86.54501342773438, \"High\": 91.92845916748047, \"Low\": 84.78197479248047, \"Close\": 90.02, \"RSI\": 61.25, \"Oversold\": 30, \"Overbought\": 70}, {\"Date\": \"2022-02-10T00:00:00\", \"Open\": 90.02754211425781, \"High\": 94.98809814453125, \"Low\": 85.36730194091797, \"Close\": 91.14, \"RSI\": 62.12, \"Oversold\": 30, \"Overbought\": 70}, {\"Date\": \"2022-02-11T00:00:00\", \"Open\": 91.16791534423828, \"High\": 92.49352264404297, \"Low\": 80.30863952636719, \"Close\": 81.73, \"RSI\": 51.62, \"Oversold\": 30, \"Overbought\": 70}, {\"Date\": \"2022-02-12T00:00:00\", \"Open\": 81.75880432128906, \"High\": 84.71503448486328, \"Low\": 79.08057403564453, \"Close\": 81.25, \"RSI\": 51.14, \"Oversold\": 30, \"Overbought\": 70}, {\"Date\": \"2022-02-13T00:00:00\", \"Open\": 81.21289825439453, \"High\": 83.24366760253906, \"Low\": 77.7585220336914, \"Close\": 78.24, \"RSI\": 48.15, \"Oversold\": 30, \"Overbought\": 70}, {\"Date\": \"2022-02-14T00:00:00\", \"Open\": 78.19771575927734, \"High\": 82.52238464355469, \"Low\": 76.42424011230469, \"Close\": 82.02, \"RSI\": 51.95, \"Oversold\": 30, \"Overbought\": 70}, {\"Date\": \"2022-02-15T00:00:00\", \"Open\": 82.03217315673828, \"High\": 93.4301528930664, \"Low\": 81.59640502929688, \"Close\": 92.67, \"RSI\": 60.7, \"Oversold\": 30, \"Overbought\": 70}, {\"Date\": \"2022-02-16T00:00:00\", \"Open\": 92.75029754638672, \"High\": 97.04877471923828, \"Low\": 91.8302993774414, \"Close\": 95.35, \"RSI\": 62.54, \"Oversold\": 30, \"Overbought\": 70}, {\"Date\": \"2022-02-17T00:00:00\", \"Open\": 95.24654388427734, \"High\": 98.57368469238281, \"Low\": 86.66361999511719, \"Close\": 88.12, \"RSI\": 55.03, \"Oversold\": 30, \"Overbought\": 70}, {\"Date\": \"2022-02-18T00:00:00\", \"Open\": 88.22450256347656, \"High\": 89.93944549560547, \"Low\": 82.8497543334961, \"Close\": 83.84, \"RSI\": 51.11, \"Oversold\": 30, \"Overbought\": 70}, {\"Date\": \"2022-02-19T00:00:00\", \"Open\": 83.8233413696289, \"High\": 86.30641174316406, \"Low\": 81.18479919433594, \"Close\": 85.1, \"RSI\": 52.19, \"Oversold\": 30, \"Overbought\": 70}, {\"Date\": \"2022-02-20T00:00:00\", \"Open\": 85.10826873779297, \"High\": 85.54019165039062, \"Low\": 76.74273681640625, \"Close\": 77.34, \"RSI\": 45.53, \"Oversold\": 30, \"Overbought\": 70}, {\"Date\": \"2022-02-21T00:00:00\", \"Open\": 77.30107116699219, \"High\": 82.57675170898438, \"Low\": 69.78959655761719, \"Close\": 69.99, \"RSI\": 40.29, \"Oversold\": 30, \"Overbought\": 70}, {\"Date\": \"2022-02-22T00:00:00\", \"Open\": 69.99714660644531, \"High\": 74.75762939453125, \"Low\": 67.46479797363281, \"Close\": 74.57, \"RSI\": 44.57, \"Oversold\": 30, \"Overbought\": 70}, {\"Date\": \"2022-02-23T00:00:00\", \"Open\": 74.54203033447266, \"High\": 81.83544158935547, \"Low\": 73.6986312866211, \"Close\": 73.7, \"RSI\": 43.93, \"Oversold\": 30, \"Overbought\": 70}, {\"Date\": \"2022-02-24T00:00:00\", \"Open\": 73.66973114013672, \"High\": 79.31600952148438, \"Low\": 64.83141326904297, \"Close\": 76.52, \"RSI\": 46.62, \"Oversold\": 30, \"Overbought\": 70}, {\"Date\": \"2022-02-25T00:00:00\", \"Open\": 76.53705596923828, \"High\": 81.85987091064453, \"Low\": 72.94703674316406, \"Close\": 80.83, \"RSI\": 50.54, \"Oversold\": 30, \"Overbought\": 70}, {\"Date\": \"2022-02-26T00:00:00\", \"Open\": 80.84786224365234, \"High\": 84.87239837646484, \"Low\": 78.50370788574219, \"Close\": 81.88, \"RSI\": 51.47, \"Oversold\": 30, \"Overbought\": 70}, {\"Date\": \"2022-02-27T00:00:00\", \"Open\": 81.79342651367188, \"High\": 82.26481628417969, \"Low\": 73.75102233886719, \"Close\": 74.99, \"RSI\": 45.41, \"Oversold\": 30, \"Overbought\": 70}, {\"Date\": \"2022-02-28T00:00:00\", \"Open\": 74.9775390625, \"High\": 85.3944320678711, \"Low\": 72.12709045410156, \"Close\": 84.34, \"RSI\": 53.42, \"Oversold\": 30, \"Overbought\": 70}, {\"Date\": \"2022-03-01T00:00:00\", \"Open\": 84.3472671508789, \"High\": 90.67776489257812, \"Low\": 83.9691390991211, \"Close\": 86.74, \"RSI\": 55.24, \"Oversold\": 30, \"Overbought\": 70}, {\"Date\": \"2022-03-02T00:00:00\", \"Open\": 86.74607849121094, \"High\": 89.7020492553711, \"Low\": 82.61300659179688, \"Close\": 83.29, \"RSI\": 52.09, \"Oversold\": 30, \"Overbought\": 70}, {\"Date\": \"2022-03-03T00:00:00\", \"Open\": 83.30426788330078, \"High\": 84.25336456298828, \"Low\": 77.35932159423828, \"Close\": 78.56, \"RSI\": 48.06, \"Oversold\": 30, \"Overbought\": 70}, {\"Date\": \"2022-03-04T00:00:00\", \"Open\": 78.61939239501953, \"High\": 82.02667999267578, \"Low\": 75.15409851074219, \"Close\": 75.65, \"RSI\": 45.71, \"Oversold\": 30, \"Overbought\": 70}, {\"Date\": \"2022-03-05T00:00:00\", \"Open\": 75.69320678710938, \"High\": 78.55117797851562, \"Low\": 73.64894104003906, \"Close\": 76.73, \"RSI\": 46.75, \"Oversold\": 30, \"Overbought\": 70}, {\"Date\": \"2022-03-06T00:00:00\", \"Open\": 76.73682403564453, \"High\": 76.99642944335938, \"Low\": 72.52902221679688, \"Close\": 72.53, \"RSI\": 43.28, \"Oversold\": 30, \"Overbought\": 70}, {\"Date\": \"2022-03-07T00:00:00\", \"Open\": 72.52704620361328, \"High\": 76.42012786865234, \"Low\": 70.72230529785156, \"Close\": 71.88, \"RSI\": 42.75, \"Oversold\": 30, \"Overbought\": 70}, {\"Date\": \"2022-03-08T00:00:00\", \"Open\": 71.8689193725586, \"High\": 76.38349914550781, \"Low\": 71.50283813476562, \"Close\": 72.92, \"RSI\": 43.93, \"Oversold\": 30, \"Overbought\": 70}, {\"Date\": \"2022-03-09T00:00:00\", \"Open\": 72.94807434082031, \"High\": 80.16046905517578, \"Low\": 72.57721710205078, \"Close\": 77.72, \"RSI\": 49.14, \"Oversold\": 30, \"Overbought\": 70}, {\"Date\": \"2022-03-10T00:00:00\", \"Open\": 77.67362976074219, \"High\": 78.89118194580078, \"Low\": 71.97984313964844, \"Close\": 74.0, \"RSI\": 45.6, \"Oversold\": 30, \"Overbought\": 70}, {\"Date\": \"2022-03-11T00:00:00\", \"Open\": 74.00333404541016, \"High\": 76.78015899658203, \"Low\": 70.99771118164062, \"Close\": 71.24, \"RSI\": 43.12, \"Oversold\": 30, \"Overbought\": 70}, {\"Date\": \"2022-03-12T00:00:00\", \"Open\": 71.23540496826172, \"High\": 73.5116958618164, \"Low\": 70.99976348876953, \"Close\": 71.0, \"RSI\": 42.9, \"Oversold\": 30, \"Overbought\": 70}, {\"Date\": \"2022-03-13T00:00:00\", \"Open\": 70.9842300415039, \"High\": 71.92495727539062, \"Low\": 67.58920288085938, \"Close\": 68.08, \"RSI\": 40.23, \"Oversold\": 30, \"Overbought\": 70}, {\"Date\": \"2022-03-14T00:00:00\", \"Open\": 68.07355499267578, \"High\": 71.4081802368164, \"Low\": 65.81455993652344, \"Close\": 68.89, \"RSI\": 41.32, \"Oversold\": 30, \"Overbought\": 70}, {\"Date\": \"2022-03-15T00:00:00\", \"Open\": 68.96440887451172, \"High\": 72.09981536865234, \"Low\": 66.21990203857422, \"Close\": 69.89, \"RSI\": 42.71, \"Oversold\": 30, \"Overbought\": 70}, {\"Date\": \"2022-03-16T00:00:00\", \"Open\": 69.87517547607422, \"High\": 74.55248260498047, \"Low\": 68.17473602294922, \"Close\": 74.18, \"RSI\": 48.37, \"Oversold\": 30, \"Overbought\": 70}, {\"Date\": \"2022-03-17T00:00:00\", \"Open\": 74.16508483886719, \"High\": 81.48091125488281, \"Low\": 73.29824829101562, \"Close\": 79.54, \"RSI\": 54.43, \"Oversold\": 30, \"Overbought\": 70}, {\"Date\": \"2022-03-18T00:00:00\", \"Open\": 79.54116821289062, \"High\": 86.72459411621094, \"Low\": 76.74211120605469, \"Close\": 85.76, \"RSI\": 60.25, \"Oversold\": 30, \"Overbought\": 70}, {\"Date\": \"2022-03-19T00:00:00\", \"Open\": 85.74703979492188, \"High\": 92.08910369873047, \"Low\": 85.71045684814453, \"Close\": 89.69, \"RSI\": 63.43, \"Oversold\": 30, \"Overbought\": 70}, {\"Date\": \"2022-03-20T00:00:00\", \"Open\": 89.67147827148438, \"High\": 89.90343475341797, \"Low\": 84.63639831542969, \"Close\": 84.72, \"RSI\": 57.2, \"Oversold\": 30, \"Overbought\": 70}, {\"Date\": \"2022-03-21T00:00:00\", \"Open\": 84.70832824707031, \"High\": 92.30826568603516, \"Low\": 83.44412994384766, \"Close\": 86.45, \"RSI\": 58.72, \"Oversold\": 30, \"Overbought\": 70}, {\"Date\": \"2022-03-22T00:00:00\", \"Open\": 86.41817474365234, \"High\": 89.70365905761719, \"Low\": 83.87718963623047, \"Close\": 83.98, \"RSI\": 55.68, \"Oversold\": 30, \"Overbought\": 70}, {\"Date\": \"2022-03-23T00:00:00\", \"Open\": 83.998291015625, \"High\": 86.89187622070312, \"Low\": 82.52220153808594, \"Close\": 86.25, \"RSI\": 57.84, \"Oversold\": 30, \"Overbought\": 70}, {\"Date\": \"2022-03-24T00:00:00\", \"Open\": 86.23018646240234, \"High\": 88.10556030273438, \"Low\": 83.86492919921875, \"Close\": 87.56, \"RSI\": 59.08, \"Oversold\": 30, \"Overbought\": 70}, {\"Date\": \"2022-03-25T00:00:00\", \"Open\": 87.5485610961914, \"High\": 87.62972259521484, \"Low\": 82.8082504272461, \"Close\": 83.66, \"RSI\": 53.99, \"Oversold\": 30, \"Overbought\": 70}, {\"Date\": \"2022-03-26T00:00:00\", \"Open\": 83.60325622558594, \"High\": 86.39820098876953, \"Low\": 82.61127471923828, \"Close\": 86.4, \"RSI\": 56.8, \"Oversold\": 30, \"Overbought\": 70}], \"data-400c51f9849ec35f1c9ab1d41d573bde\": [{\"Date\": \"2021-10-10T00:00:00\", \"Price\": 56.59, \"Shares\": 17.671, \"Amount\": 1000, \"RSI\": 26.67, \"Buy/Sell\": \"Buy\", \"Profit/Loss\": 0, \"Profit/Loss %\": 0}, {\"Date\": \"2022-03-26T00:00:00\", \"Price\": 86.4, \"Shares\": 0.0, \"Amount\": 1526.7744, \"RSI\": 56.8, \"Buy/Sell\": \"Sell\", \"Profit/Loss\": 526.7744, \"Profit/Loss %\": 52.68}]}}, {\"mode\": \"vega-lite\"});\n",
       "</script>"
      ],
      "text/plain": [
       "alt.VConcatChart(...)"
      ]
     },
     "execution_count": 18,
     "metadata": {},
     "output_type": "execute_result"
    }
   ],
   "source": [
    "StockView=alt.Chart(df).mark_line().encode(\n",
    "    x='Date:T',\n",
    "    y='Close:Q',\n",
    "    tooltip=['Close']\n",
    ").properties(\n",
    "    width=900,\n",
    "    height=500\n",
    ")\n",
    "\n",
    "Base2 = alt.Chart(Final).mark_circle(color='Blue',size=90).encode(\n",
    "    x='Date:T',\n",
    "    y='RSI:Q',\n",
    "    color='Buy/Sell',\n",
    "    tooltip=['Date','RSI']\n",
    ").properties(\n",
    "    width=900,\n",
    "    height=300\n",
    ")\n",
    "\n",
    "\n",
    "\n",
    "StockView & (RSI_Chart+Base2)\n",
    "\n",
    "#.interactive()\n"
   ]
  },
  {
   "cell_type": "code",
   "execution_count": 19,
   "metadata": {},
   "outputs": [
    {
     "data": {
      "text/html": [
       "<th style=\"text-align:center\"><td style=\"vertical-align:top\"><h2>RSI Strategy </h2><table style=\"display:inline\" border=\"1\" class=\"dataframe\">\n",
       "  <thead>\n",
       "    <tr style=\"text-align: right;\">\n",
       "      <th></th>\n",
       "      <th>Date</th>\n",
       "      <th>Price</th>\n",
       "      <th>Shares</th>\n",
       "      <th>Amount</th>\n",
       "      <th>RSI</th>\n",
       "      <th>Buy/Sell</th>\n",
       "      <th>Profit/Loss</th>\n",
       "      <th>Profit/Loss %</th>\n",
       "    </tr>\n",
       "  </thead>\n",
       "  <tbody>\n",
       "    <tr>\n",
       "      <th>0</th>\n",
       "      <td>2021-10-10</td>\n",
       "      <td>56.59</td>\n",
       "      <td>17.671</td>\n",
       "      <td>1000</td>\n",
       "      <td>26.67</td>\n",
       "      <td>Buy</td>\n",
       "      <td>0</td>\n",
       "      <td>0</td>\n",
       "    </tr>\n",
       "    <tr>\n",
       "      <th>1</th>\n",
       "      <td>2022-03-26</td>\n",
       "      <td>86.40</td>\n",
       "      <td>0.000</td>\n",
       "      <td>1526.77</td>\n",
       "      <td>56.80</td>\n",
       "      <td>Sell</td>\n",
       "      <td>526.774</td>\n",
       "      <td>52.68</td>\n",
       "    </tr>\n",
       "  </tbody>\n",
       "</table style=\"display:inline\"></td></th><th style=\"text-align:center\"><td style=\"vertical-align:top\"><h2>Long Term Buy&Hold</h2><table style=\"display:inline\" border=\"1\" class=\"dataframe\">\n",
       "  <thead>\n",
       "    <tr style=\"text-align: right;\">\n",
       "      <th></th>\n",
       "      <th>Date</th>\n",
       "      <th>Price</th>\n",
       "      <th>Shares</th>\n",
       "      <th>Amount</th>\n",
       "      <th>RSI</th>\n",
       "      <th>Buy/Sell</th>\n",
       "      <th>Profit/Loss</th>\n",
       "      <th>Profit/Loss %</th>\n",
       "    </tr>\n",
       "  </thead>\n",
       "  <tbody>\n",
       "    <tr>\n",
       "      <th>0</th>\n",
       "      <td>2021-10-10</td>\n",
       "      <td>56.59</td>\n",
       "      <td>17.671</td>\n",
       "      <td>1000</td>\n",
       "      <td>26.67</td>\n",
       "      <td>Buy</td>\n",
       "      <td>0</td>\n",
       "      <td>0</td>\n",
       "    </tr>\n",
       "    <tr>\n",
       "      <th>1</th>\n",
       "      <td>2022-03-26</td>\n",
       "      <td>86.40</td>\n",
       "      <td>0.000</td>\n",
       "      <td>1526.77</td>\n",
       "      <td>56.80</td>\n",
       "      <td>Sell</td>\n",
       "      <td>526.774</td>\n",
       "      <td>52.68</td>\n",
       "    </tr>\n",
       "  </tbody>\n",
       "</table style=\"display:inline\"></td></th>"
      ]
     },
     "metadata": {},
     "output_type": "display_data"
    }
   ],
   "source": [
    "RSI_Chart\n",
    "display(Final,Long_Term, titles=['RSI Strategy ','Long Term Buy&Hold'])"
   ]
  }
 ],
 "metadata": {
  "kernelspec": {
   "display_name": "Python 3",
   "language": "python",
   "name": "python3"
  },
  "language_info": {
   "codemirror_mode": {
    "name": "ipython",
    "version": 3
   },
   "file_extension": ".py",
   "mimetype": "text/x-python",
   "name": "python",
   "nbconvert_exporter": "python",
   "pygments_lexer": "ipython3",
   "version": "3.9.1"
  }
 },
 "nbformat": 4,
 "nbformat_minor": 4
}
