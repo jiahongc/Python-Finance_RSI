{
 "cells": [
  {
   "cell_type": "markdown",
   "metadata": {},
   "source": [
    "## Can trading using RSI beat buying and holding a stock?"
   ]
  },
  {
   "cell_type": "markdown",
   "metadata": {},
   "source": [
    "### Background: \n",
    "The Relative Strength Index (RSI) is a momentum indicator that describes the current price relative to average high and low prices over a previous trading period. This indicator estimates overbought or oversold status and helps spot trend reversals, price pullbacks, and the emergence of bullish or bearish markets.\n",
    "\n",
    "The indicator was originally developed by J. Welles Wilder Jr. and introduced in his seminal 1978 book, “New Concepts in Technical Trading Systems.”\n",
    "\n",
    "An asset is usually considered overbought when the RSI is above 70% and oversold when it is below 30%.\n",
    "\n",
    "Here is the process of calculating RSI:\n",
    "\n",
    "1. For 14 periods, calculate the difference in price from the current period and the previous period;\n",
    "2. For each period, record each positive change in price as a gain and each negative change as a loss;\n",
    "3. On the 14th period, calculate the arithmetic mean of the gains and losses for the entire 14 day period (e.g. gains / 14 & losses / 14);\n",
    "4. Use these values to calculate the RS\n",
    "5. Use the RS value to calculate the RSI\n",
    "6. For each proceeding period, use only the previous RSI value to calculate the next average value by multiplying by our lookback period – 1 (e.g. 13 for a lookback of 14).\n",
    "7. Add the value obtained in step 6 to the current day’s value (do this for both the gains and losses)\n",
    "\n",
    "<img src=\"rsi.jpeg\" width=300 height=300 />\n",
    "\n",
    "### Resource:\n",
    "\n",
    "- https://www.alpharithms.com/relative-strength-index-rsi-in-python-470209\n",
    "- https://www.tradingview.com/support/solutions/43000502338-relative-strength-index-rsi/\n",
    "- https://en.wikipedia.org/wiki/Relative_strength_index"
   ]
  },
  {
   "cell_type": "markdown",
   "metadata": {},
   "source": [
    "### Import Libraries and Finance Data "
   ]
  },
  {
   "cell_type": "code",
   "execution_count": 1,
   "metadata": {},
   "outputs": [
    {
     "data": {
      "text/html": [
       "<style>.container { width:80% !important; }</style>"
      ],
      "text/plain": [
       "<IPython.core.display.HTML object>"
      ]
     },
     "metadata": {},
     "output_type": "display_data"
    }
   ],
   "source": [
    "# import basic libraries\n",
    "import pandas as pd\n",
    "import pandas_ta as ta\n",
    "import numpy as np\n",
    "import altair as alt\n",
    "from IPython.display import display_html\n",
    "from itertools import chain,cycle\n",
    "\n",
    "# adjust the width of jupyter notebook\n",
    "from IPython.core.display import display, HTML\n",
    "display(HTML(\"<style>.container { width:80% !important; }</style>\"))\n",
    "\n",
    "#three ways to import finance data, we will mainly use yfinance \n",
    "#https://pypi.org/project/yfinance    OR  https://www.alpharithms.com/python-financial-data-491110/\n",
    "\n",
    "# import quandl\n",
    "# df = quandl.get('WIKI/NVDA')\n",
    "\n",
    "# import pandas_datareader as pdr\n",
    "# #request API call from https://data.nasdaq.com/sign-up\n",
    "# df = pdr.get_data_quandl(\"NVDA\", api_key=\"vjsci8v8EfV-BpoQmxbR\")\n",
    "\n",
    "import yfinance as yf"
   ]
  },
  {
   "cell_type": "code",
   "execution_count": 2,
   "metadata": {},
   "outputs": [],
   "source": [
    "## Function to show dataframes side by side\n",
    "## https://stackoverflow.com/questions/38783027/jupyter-notebook-display-two-pandas-tables-side-by-side\n",
    "def display(*args,titles=cycle([''])):\n",
    "    html_str=''\n",
    "    for df,title in zip(args, chain(titles,cycle(['</br>'])) ):\n",
    "        html_str+='<th style=\"text-align:center\"><td style=\"vertical-align:top\">'\n",
    "        html_str+=f'<h2>{title}</h2>'\n",
    "        html_str+=df.to_html().replace('table','table style=\"display:inline\"')\n",
    "        html_str+='</td></th>'\n",
    "    display_html(html_str,raw=True)"
   ]
  },
  {
   "cell_type": "code",
   "execution_count": 3,
   "metadata": {
    "scrolled": true
   },
   "outputs": [],
   "source": [
    "# Get finance data, valid periods: 1d,5d,1mo,3mo,6mo,1y,2y,5y,10y,ytd,max\n",
    "Ticker=\"tsla\"\n",
    "df = yf.Ticker(Ticker).history(period='3y')\n",
    "df=df.reset_index()\n",
    "df['Date']=pd.to_datetime(df['Date'])\n",
    "df=df[['Date','Open','High','Low','Close']]\n",
    "df['Close']=round(df['Close'],2)"
   ]
  },
  {
   "cell_type": "code",
   "execution_count": 4,
   "metadata": {
    "scrolled": false
   },
   "outputs": [
    {
     "data": {
      "text/html": [
       "<div>\n",
       "<style scoped>\n",
       "    .dataframe tbody tr th:only-of-type {\n",
       "        vertical-align: middle;\n",
       "    }\n",
       "\n",
       "    .dataframe tbody tr th {\n",
       "        vertical-align: top;\n",
       "    }\n",
       "\n",
       "    .dataframe thead th {\n",
       "        text-align: right;\n",
       "    }\n",
       "</style>\n",
       "<table border=\"1\" class=\"dataframe\">\n",
       "  <thead>\n",
       "    <tr style=\"text-align: right;\">\n",
       "      <th></th>\n",
       "      <th>Date</th>\n",
       "      <th>Open</th>\n",
       "      <th>High</th>\n",
       "      <th>Low</th>\n",
       "      <th>Close</th>\n",
       "    </tr>\n",
       "  </thead>\n",
       "  <tbody>\n",
       "    <tr>\n",
       "      <th>0</th>\n",
       "      <td>2019-05-28</td>\n",
       "      <td>38.240002</td>\n",
       "      <td>39.000000</td>\n",
       "      <td>37.570000</td>\n",
       "      <td>37.74</td>\n",
       "    </tr>\n",
       "    <tr>\n",
       "      <th>1</th>\n",
       "      <td>2019-05-29</td>\n",
       "      <td>37.419998</td>\n",
       "      <td>38.478001</td>\n",
       "      <td>37.007999</td>\n",
       "      <td>37.97</td>\n",
       "    </tr>\n",
       "    <tr>\n",
       "      <th>2</th>\n",
       "      <td>2019-05-30</td>\n",
       "      <td>37.750000</td>\n",
       "      <td>38.452000</td>\n",
       "      <td>37.403999</td>\n",
       "      <td>37.64</td>\n",
       "    </tr>\n",
       "    <tr>\n",
       "      <th>3</th>\n",
       "      <td>2019-05-31</td>\n",
       "      <td>37.020000</td>\n",
       "      <td>37.984001</td>\n",
       "      <td>36.820000</td>\n",
       "      <td>37.03</td>\n",
       "    </tr>\n",
       "    <tr>\n",
       "      <th>4</th>\n",
       "      <td>2019-06-03</td>\n",
       "      <td>37.102001</td>\n",
       "      <td>37.335999</td>\n",
       "      <td>35.397999</td>\n",
       "      <td>35.79</td>\n",
       "    </tr>\n",
       "  </tbody>\n",
       "</table>\n",
       "</div>"
      ],
      "text/plain": [
       "        Date       Open       High        Low  Close\n",
       "0 2019-05-28  38.240002  39.000000  37.570000  37.74\n",
       "1 2019-05-29  37.419998  38.478001  37.007999  37.97\n",
       "2 2019-05-30  37.750000  38.452000  37.403999  37.64\n",
       "3 2019-05-31  37.020000  37.984001  36.820000  37.03\n",
       "4 2019-06-03  37.102001  37.335999  35.397999  35.79"
      ]
     },
     "execution_count": 4,
     "metadata": {},
     "output_type": "execute_result"
    }
   ],
   "source": [
    "df.head()"
   ]
  },
  {
   "cell_type": "markdown",
   "metadata": {},
   "source": [
    "### Calculating RSI Value"
   ]
  },
  {
   "cell_type": "markdown",
   "metadata": {},
   "source": [
    "My attempt on calculating the RSI value using simple average. But a typical RSI value is calculating using Wilder’s original smoothing method\n",
    "<img src=\"wsm.jpeg\" width=300 height=300 />"
   ]
  },
  {
   "cell_type": "code",
   "execution_count": 5,
   "metadata": {
    "scrolled": true
   },
   "outputs": [
    {
     "data": {
      "text/html": [
       "<div>\n",
       "<style scoped>\n",
       "    .dataframe tbody tr th:only-of-type {\n",
       "        vertical-align: middle;\n",
       "    }\n",
       "\n",
       "    .dataframe tbody tr th {\n",
       "        vertical-align: top;\n",
       "    }\n",
       "\n",
       "    .dataframe thead th {\n",
       "        text-align: right;\n",
       "    }\n",
       "</style>\n",
       "<table border=\"1\" class=\"dataframe\">\n",
       "  <thead>\n",
       "    <tr style=\"text-align: right;\">\n",
       "      <th></th>\n",
       "      <th>Date</th>\n",
       "      <th>Open</th>\n",
       "      <th>High</th>\n",
       "      <th>Low</th>\n",
       "      <th>Close</th>\n",
       "      <th>RSI</th>\n",
       "    </tr>\n",
       "  </thead>\n",
       "  <tbody>\n",
       "    <tr>\n",
       "      <th>0</th>\n",
       "      <td>2019-05-28</td>\n",
       "      <td>38.240002</td>\n",
       "      <td>39.000000</td>\n",
       "      <td>37.570000</td>\n",
       "      <td>37.74</td>\n",
       "      <td>NaN</td>\n",
       "    </tr>\n",
       "    <tr>\n",
       "      <th>1</th>\n",
       "      <td>2019-05-29</td>\n",
       "      <td>37.419998</td>\n",
       "      <td>38.478001</td>\n",
       "      <td>37.007999</td>\n",
       "      <td>37.97</td>\n",
       "      <td>NaN</td>\n",
       "    </tr>\n",
       "    <tr>\n",
       "      <th>2</th>\n",
       "      <td>2019-05-30</td>\n",
       "      <td>37.750000</td>\n",
       "      <td>38.452000</td>\n",
       "      <td>37.403999</td>\n",
       "      <td>37.64</td>\n",
       "      <td>NaN</td>\n",
       "    </tr>\n",
       "    <tr>\n",
       "      <th>3</th>\n",
       "      <td>2019-05-31</td>\n",
       "      <td>37.020000</td>\n",
       "      <td>37.984001</td>\n",
       "      <td>36.820000</td>\n",
       "      <td>37.03</td>\n",
       "      <td>NaN</td>\n",
       "    </tr>\n",
       "    <tr>\n",
       "      <th>4</th>\n",
       "      <td>2019-06-03</td>\n",
       "      <td>37.102001</td>\n",
       "      <td>37.335999</td>\n",
       "      <td>35.397999</td>\n",
       "      <td>35.79</td>\n",
       "      <td>NaN</td>\n",
       "    </tr>\n",
       "  </tbody>\n",
       "</table>\n",
       "</div>"
      ],
      "text/plain": [
       "        Date       Open       High        Low  Close  RSI\n",
       "0 2019-05-28  38.240002  39.000000  37.570000  37.74  NaN\n",
       "1 2019-05-29  37.419998  38.478001  37.007999  37.97  NaN\n",
       "2 2019-05-30  37.750000  38.452000  37.403999  37.64  NaN\n",
       "3 2019-05-31  37.020000  37.984001  36.820000  37.03  NaN\n",
       "4 2019-06-03  37.102001  37.335999  35.397999  35.79  NaN"
      ]
     },
     "execution_count": 5,
     "metadata": {},
     "output_type": "execute_result"
    }
   ],
   "source": [
    "df['RSI']=round(ta.rsi(df['Close'], timeperiod=14),2)\n",
    "df.head()"
   ]
  },
  {
   "cell_type": "code",
   "execution_count": 6,
   "metadata": {},
   "outputs": [],
   "source": [
    "df.drop(range(0,14),inplace=True)"
   ]
  },
  {
   "cell_type": "code",
   "execution_count": 9,
   "metadata": {},
   "outputs": [],
   "source": [
    "df.reset_index(drop=True,inplace=True)"
   ]
  },
  {
   "cell_type": "code",
   "execution_count": 10,
   "metadata": {},
   "outputs": [
    {
     "data": {
      "text/html": [
       "<div>\n",
       "<style scoped>\n",
       "    .dataframe tbody tr th:only-of-type {\n",
       "        vertical-align: middle;\n",
       "    }\n",
       "\n",
       "    .dataframe tbody tr th {\n",
       "        vertical-align: top;\n",
       "    }\n",
       "\n",
       "    .dataframe thead th {\n",
       "        text-align: right;\n",
       "    }\n",
       "</style>\n",
       "<table border=\"1\" class=\"dataframe\">\n",
       "  <thead>\n",
       "    <tr style=\"text-align: right;\">\n",
       "      <th></th>\n",
       "      <th>Date</th>\n",
       "      <th>Open</th>\n",
       "      <th>High</th>\n",
       "      <th>Low</th>\n",
       "      <th>Close</th>\n",
       "      <th>RSI</th>\n",
       "    </tr>\n",
       "  </thead>\n",
       "  <tbody>\n",
       "    <tr>\n",
       "      <th>0</th>\n",
       "      <td>2019-06-17</td>\n",
       "      <td>43.096001</td>\n",
       "      <td>45.400002</td>\n",
       "      <td>42.854000</td>\n",
       "      <td>45.01</td>\n",
       "      <td>76.26</td>\n",
       "    </tr>\n",
       "    <tr>\n",
       "      <th>1</th>\n",
       "      <td>2019-06-18</td>\n",
       "      <td>45.743999</td>\n",
       "      <td>46.948002</td>\n",
       "      <td>44.512001</td>\n",
       "      <td>44.95</td>\n",
       "      <td>75.79</td>\n",
       "    </tr>\n",
       "    <tr>\n",
       "      <th>2</th>\n",
       "      <td>2019-06-19</td>\n",
       "      <td>45.021999</td>\n",
       "      <td>45.554001</td>\n",
       "      <td>44.212002</td>\n",
       "      <td>45.29</td>\n",
       "      <td>76.68</td>\n",
       "    </tr>\n",
       "    <tr>\n",
       "      <th>3</th>\n",
       "      <td>2019-06-20</td>\n",
       "      <td>44.599998</td>\n",
       "      <td>45.380001</td>\n",
       "      <td>43.270000</td>\n",
       "      <td>43.92</td>\n",
       "      <td>66.14</td>\n",
       "    </tr>\n",
       "    <tr>\n",
       "      <th>4</th>\n",
       "      <td>2019-06-21</td>\n",
       "      <td>43.243999</td>\n",
       "      <td>44.436001</td>\n",
       "      <td>43.099998</td>\n",
       "      <td>44.37</td>\n",
       "      <td>67.71</td>\n",
       "    </tr>\n",
       "  </tbody>\n",
       "</table>\n",
       "</div>"
      ],
      "text/plain": [
       "        Date       Open       High        Low  Close    RSI\n",
       "0 2019-06-17  43.096001  45.400002  42.854000  45.01  76.26\n",
       "1 2019-06-18  45.743999  46.948002  44.512001  44.95  75.79\n",
       "2 2019-06-19  45.021999  45.554001  44.212002  45.29  76.68\n",
       "3 2019-06-20  44.599998  45.380001  43.270000  43.92  66.14\n",
       "4 2019-06-21  43.243999  44.436001  43.099998  44.37  67.71"
      ]
     },
     "execution_count": 10,
     "metadata": {},
     "output_type": "execute_result"
    }
   ],
   "source": [
    "df.head()"
   ]
  },
  {
   "cell_type": "code",
   "execution_count": null,
   "metadata": {},
   "outputs": [],
   "source": [
    "#using the ta library, RSI values are calculated using daily close price. The default RSI period is 14 days.\n",
    "df['RSI']=round(ta.rsi(df['Close'], timeperiod=14),2)\n",
    "\n",
    "#Dropping the first 14 days without 14 days and reset index\n",
    "df.drop(range(0,14),inplace=True)\n",
    "df.reset_index(drop=True,inplace=True)\n",
    "\n",
    "# Value is considered \"overbought\" when it exceeds 70 and \"oversold\" when indictator is below 30\n",
    "df['Overbought']=70\n",
    "df['Oversold']=30"
   ]
  },
  {
   "cell_type": "code",
   "execution_count": null,
   "metadata": {},
   "outputs": [],
   "source": [
    "# uncomment if you want to see how RSI is calculated using Simple Averages\n",
    "\n",
    "# df['Difference'] = df['Close'].diff()\n",
    "# df['Difference'].fillna(0,inplace=True)\n",
    "# df['PercentChange'] = round(df['Difference']/ df['Close']*100,2)\n",
    "# df.loc[df['Difference']>0, 'Gain'] = df['Difference']\n",
    "# df.loc[df['Difference']<0, 'Loss'] = -df['Difference']\n",
    "# df['Gain'].fillna(0,inplace=True)\n",
    "# df['Loss'].fillna(0,inplace=True)\n",
    "# for i in range(0,df.shape[0]-14):\n",
    "#     sumGain=0\n",
    "#     sumLoss=0\n",
    "#     for index, row in df[1+i:14+i].iterrows():\n",
    "#         sumGain=sumGain+row['Gain']\n",
    "#         sumLoss=sumLoss+row['Loss']\n",
    "#     df.loc[df.index==(14+i),'AvgGain']=round(sumGain/8,2)\n",
    "#     df.loc[df.index==(14+i),'SumGain']=sumGain    \n",
    "#     df.loc[df.index==(14+i),'AvgLoss']=round(sumLoss/8,2)    \n",
    "#     df.loc[df.index==(14+i),'SumLoss']=sumLoss    \n",
    "# df['RS'] = round(df['AvgGain']/df['AvgLoss'],2)\n",
    "# df['AvgGain'].fillna(0,inplace=True)\n",
    "# df['AvgLoss'].fillna(0,inplace=True)\n",
    "# df['RS'].fillna(0,inplace=True)\n",
    "# df['RSI'] = round(100-(100/(1+df['RS'])),2)\n",
    "# df=df.reset_index()\n",
    "# df.drop(range(0,14),inplace=True)"
   ]
  },
  {
   "cell_type": "code",
   "execution_count": null,
   "metadata": {},
   "outputs": [],
   "source": [
    "#Prepare of Stock graph\n",
    "Stock = alt.Chart(df).mark_line(point=alt.OverlayMarkDef(color=\"grey\",size=15)).encode(\n",
    "    x='Date:T',\n",
    "    y='Close:Q',\n",
    "    tooltip=[alt.Tooltip('date:T', format='%m/%d'),\n",
    "             alt.Tooltip('Close:Q', format=',.2f')]\n",
    ").properties(\n",
    "    title='Stock Price',\n",
    "    width=800,\n",
    "    height=300\n",
    ")\n"
   ]
  },
  {
   "cell_type": "code",
   "execution_count": null,
   "metadata": {
    "scrolled": false
   },
   "outputs": [],
   "source": [
    "#Plotting RSI chart with Oversold and Overbought lines\n",
    "RSI = alt.Chart(df).mark_line().encode(\n",
    "    x='Date:T',\n",
    "    y='RSI:Q',\n",
    "    tooltip=[alt.Tooltip('date:T', format='%m/%d'),\n",
    "             alt.Tooltip('Close:Q', format=',.2f'),\n",
    "             alt.Tooltip('RSI:Q', format=',.2f')]\n",
    ").properties(\n",
    "    title='RSI',\n",
    "    width=800,\n",
    "    height=300)\n",
    "\n",
    "Oversold = alt.Chart(df).mark_line(color= 'red').encode(\n",
    "    x='Date:T',\n",
    "    y='Oversold:Q'\n",
    ")\n",
    "\n",
    "Overbought = alt.Chart(df).mark_line(color= 'green').encode(\n",
    "    x='Date:T',\n",
    "    y='Overbought:Q'\n",
    ")\n",
    "\n",
    "RSI_Chart=RSI+Oversold+Overbought\n",
    "Stock & RSI_Chart"
   ]
  },
  {
   "cell_type": "markdown",
   "metadata": {},
   "source": [
    "### Setting up RSI Strategy "
   ]
  },
  {
   "cell_type": "code",
   "execution_count": null,
   "metadata": {
    "scrolled": true
   },
   "outputs": [],
   "source": [
    "print('Current Start Date :',df.iloc[0]['Date'])"
   ]
  },
  {
   "cell_type": "code",
   "execution_count": null,
   "metadata": {
    "scrolled": true
   },
   "outputs": [],
   "source": [
    "# Set up your initial investment and time below\n",
    "df = df.loc[df['Date']>='2019-04-15']\n",
    "df.reset_index(drop=True,inplace=True)\n",
    "df.head()"
   ]
  },
  {
   "cell_type": "code",
   "execution_count": null,
   "metadata": {},
   "outputs": [],
   "source": [
    "#initial values\n",
    "startAmount=1000\n",
    "startPrice=df.iloc[0]['Close']\n",
    "shares=round(startAmount/startPrice,3)"
   ]
  },
  {
   "cell_type": "code",
   "execution_count": null,
   "metadata": {},
   "outputs": [],
   "source": [
    "# choose your sell and buy RSI threshold, you would sell when RSI hits the sell threhold and rebuy when RSI drops below buy thresold\n",
    "RSI_Sell=70\n",
    "RSI_Buy=60"
   ]
  },
  {
   "cell_type": "code",
   "execution_count": null,
   "metadata": {
    "scrolled": true
   },
   "outputs": [],
   "source": [
    "#RSI Dateframe with Initialize Info\n",
    "df_rsi = pd.DataFrame(columns = ['Date','Price','Shares', 'Amount','RSI','Buy/Sell','Profit/Loss','Profit/Loss %'])\n",
    "df_rsi = df_rsi.append({'Date' : df.iloc[0]['Date'], \n",
    "              'Price' : startPrice,\n",
    "              'Shares' : shares, \n",
    "              'Amount' : startAmount,\n",
    "              'RSI': df.iloc[0]['RSI'],\n",
    "              'Buy/Sell': 'Buy',\n",
    "              'Profit/Loss':0,\n",
    "              'Profit/Loss %':0},ignore_index=True)\n",
    "\n",
    "df_longterm = df_rsi\n",
    "\n",
    "print('Start Price:', '${:,.2f}'.format(startPrice))\n",
    "print('Start Shares: ', shares)\n",
    "print('RSI Sell Signal: >=', RSI_Sell)\n",
    "print('RSI Buy Signal: <', RSI_Buy)\n",
    "df_rsi.head()"
   ]
  },
  {
   "cell_type": "code",
   "execution_count": null,
   "metadata": {},
   "outputs": [],
   "source": [
    "## buy and sell stock based on RSI value\n",
    "Sell_Flag=0\n",
    "for index, row in df.iterrows():\n",
    "    if index!=0 and row['RSI']>=RSI_Sell and Sell_Flag==0:\n",
    "        Sell_Flag=1\n",
    "        Sold_Amount=df_rsi.iloc[-1]['Shares']*row['Close']\n",
    "        df_rsi = df_rsi.append({\n",
    "              'Date' : row['Date'], \n",
    "              'Price' : row['Close'],\n",
    "              'Shares' : 0, \n",
    "              'Amount' : Sold_Amount,\n",
    "              'RSI': row['RSI'],\n",
    "              'Buy/Sell': 'Sell',\n",
    "              'Profit/Loss': round(Sold_Amount-df_rsi.iloc[-1]['Amount'],2),\n",
    "              'Profit/Loss %': round((Sold_Amount-df_rsi.iloc[-1]['Amount'])/df_rsi.iloc[-1]['Amount']*100,2)                              \n",
    "                            },ignore_index=True)\n",
    "    \n",
    "    elif index!=0 and row['RSI']<RSI_Buy and Sell_Flag==1:\n",
    "        Sell_Flag=0\n",
    "        df_rsi = df_rsi.append({\n",
    "              'Date' : row['Date'], \n",
    "              'Price' : row['Close'],\n",
    "              'Shares' : df_rsi.iloc[-1]['Amount']/row['Close'], \n",
    "              'Amount' : df_rsi.iloc[-1]['Amount'],\n",
    "              'RSI': row['RSI'],\n",
    "              'Buy/Sell': 'Buy',\n",
    "              'Profit/Loss':0,\n",
    "              'Profit/Loss %':0                              \n",
    "                            },ignore_index=True)\n",
    "        \n",
    "        \n",
    "# sell on the last day and calculate the final profit/loss        \n",
    "if df_rsi.iloc[-1]['Buy/Sell']=='Buy':\n",
    "    Sold_Amount=df.iloc[-1]['Close']*df_rsi.iloc[-1]['Shares']\n",
    "    \n",
    "    df_rsi = df_rsi.append({\n",
    "              'Date' : df.iloc[-1]['Date'], \n",
    "              'Price' : df.iloc[-1]['Close'],\n",
    "              'Shares' : 0, \n",
    "              'Amount' : Sold_Amount,\n",
    "              'RSI': df.iloc[-1]['RSI'],\n",
    "              'Buy/Sell': 'Sell',\n",
    "              'Profit/Loss':Sold_Amount-df_rsi.iloc[-1]['Amount'],\n",
    "              'Profit/Loss %':round((Sold_Amount-df_rsi.iloc[-1]['Amount'])/df_rsi.iloc[-1]['Amount']*100,2)                              \n",
    "                            },ignore_index=True)\n",
    "    \n",
    "# add buy and sell threshold\n",
    "df_rsi['Sell'] = RSI_Sell\n",
    "df_rsi['Buy'] = RSI_Buy"
   ]
  },
  {
   "cell_type": "code",
   "execution_count": null,
   "metadata": {},
   "outputs": [],
   "source": [
    "df_rsi"
   ]
  },
  {
   "cell_type": "code",
   "execution_count": null,
   "metadata": {},
   "outputs": [],
   "source": [
    "Final_RSI = alt.Chart(df_rsi).mark_circle(color='Blue',size=90).encode(\n",
    "    x='Date:T',\n",
    "    y='RSI:Q',\n",
    "    color='Buy/Sell',\n",
    "        tooltip=[alt.Tooltip('date:T', format='%m/%d'),\n",
    "             alt.Tooltip('RSI:Q', format=',.2f')]\n",
    ").properties(\n",
    "    width=800,\n",
    "    height=300\n",
    ")\n",
    "\n",
    "Sell_Line = alt.Chart(df_rsi).mark_line(strokeDash=[5,5],color= 'red').encode(\n",
    "    x='Date:T',\n",
    "    y='Sell:Q',\n",
    "    tooltip=[alt.Tooltip('date:T', format='%m/%d'),\n",
    "             alt.Tooltip('RSI:Q', format=',.2f')]\n",
    ")\n",
    "\n",
    "Buy_Line = alt.Chart(df_rsi).mark_line(strokeDash=[5,5], color= 'green').encode(\n",
    "    x='Date:T',\n",
    "    y='Buy:Q',\n",
    "    tooltip=[alt.Tooltip('date:T', format='%m/%d'),\n",
    "             alt.Tooltip('RSI:Q', format=',.2f')]\n",
    ")\n",
    "\n",
    "#RSI+Final_RSI+Sell_Line+Buy_Line"
   ]
  },
  {
   "cell_type": "code",
   "execution_count": null,
   "metadata": {},
   "outputs": [],
   "source": [
    "df_longterm = df_rsi.iloc[[0, -1]]\n",
    "df_longterm.reset_index(drop=True,inplace=True)\n",
    "df_longterm.at[1, 'Amount'] = df_longterm.iloc[-1]['Price']*df_longterm.iloc[0]['Shares']\n",
    "df_longterm.at[1, 'Buy/Sell'] = 'Sell'\n",
    "df_longterm.at[1, 'Profit/Loss'] = df_longterm.iloc[-1]['Amount']-df_longterm.iloc[0]['Amount']\n",
    "df_longterm.at[1, 'Profit/Loss %'] = round(df_longterm.at[1, 'Profit/Loss']/df_longterm.iloc[0]['Amount']*100,2)"
   ]
  },
  {
   "cell_type": "code",
   "execution_count": null,
   "metadata": {},
   "outputs": [],
   "source": [
    "Stock&(RSI+Final_RSI+Sell_Line+Buy_Line)"
   ]
  },
  {
   "cell_type": "code",
   "execution_count": null,
   "metadata": {},
   "outputs": [],
   "source": [
    "display(df_rsi,df_longterm, titles=['RSI Strategy ','Long Term Buy&Hold'])"
   ]
  }
 ],
 "metadata": {
  "interpreter": {
   "hash": "aee8b7b246df8f9039afb4144a1f6fd8d2ca17a180786b69acc140d282b71a49"
  },
  "kernelspec": {
   "display_name": "Python 3",
   "language": "python",
   "name": "python3"
  },
  "language_info": {
   "codemirror_mode": {
    "name": "ipython",
    "version": 3
   },
   "file_extension": ".py",
   "mimetype": "text/x-python",
   "name": "python",
   "nbconvert_exporter": "python",
   "pygments_lexer": "ipython3",
   "version": "3.9.1"
  }
 },
 "nbformat": 4,
 "nbformat_minor": 4
}
